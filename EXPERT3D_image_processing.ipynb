{
  "nbformat": 4,
  "nbformat_minor": 0,
  "metadata": {
    "colab": {
      "provenance": [],
      "toc_visible": true
    },
    "kernelspec": {
      "name": "python3",
      "display_name": "Python 3"
    },
    "language_info": {
      "name": "python"
    }
  },
  "cells": [
    {
      "cell_type": "markdown",
      "source": [
        "# INTRODUCTION TO DIGITAL IMAGE PROCESSIGNWITH PYTHON"
      ],
      "metadata": {
        "id": "0YGlEHzZ7fPh"
      }
    },
    {
      "cell_type": "markdown",
      "metadata": {
        "id": "DpXkqRKyKoX-"
      },
      "source": [
        "## Basic operations with images\n",
        "\n"
      ]
    },
    {
      "cell_type": "markdown",
      "source": [
        "### Reading an image\n",
        "\n",
        "All the test images can be downloaded from the shared folder in google drive\n",
        "\n",
        "https://drive.google.com/drive/folders/1Wh0_ZByP2GAGNttYkit6dnZD09wpEnD2?usp=sharing\n",
        "\n",
        "\n",
        "Ways to Load images to google colab \n"
      ],
      "metadata": {
        "id": "V5957ZStE4Ll"
      }
    },
    {
      "cell_type": "markdown",
      "metadata": {
        "id": "EaVjXdenLiJP"
      },
      "source": [
        "In order to be able to work with an image, we should load it into google colab platform. Files uploaded to the google colab session will be remove when the session expires. There are different ways to do it:\n",
        "\n",
        "1. Drag-and-drop the image from a local folder to the colab folder section (folder icon at the left side bar of the google colab platform)\n",
        "\n",
        "2. Upload the file to google colab using the following code and selecting the code:  "
      ]
    },
    {
      "cell_type": "code",
      "execution_count": null,
      "metadata": {
        "colab": {
          "base_uri": "https://localhost:8080/",
          "height": 39
        },
        "id": "mTrWwXUDKn9W",
        "outputId": "030c9a02-44be-45be-9455-acda10958d78"
      },
      "outputs": [
        {
          "output_type": "display_data",
          "data": {
            "text/plain": [
              "<IPython.core.display.HTML object>"
            ],
            "text/html": [
              "\n",
              "     <input type=\"file\" id=\"files-0e93bd88-f566-4070-9933-a54e1a6b473f\" name=\"files[]\" multiple disabled\n",
              "        style=\"border:none\" />\n",
              "     <output id=\"result-0e93bd88-f566-4070-9933-a54e1a6b473f\">\n",
              "      Upload widget is only available when the cell has been executed in the\n",
              "      current browser session. Please rerun this cell to enable.\n",
              "      </output>\n",
              "      <script>// Copyright 2017 Google LLC\n",
              "//\n",
              "// Licensed under the Apache License, Version 2.0 (the \"License\");\n",
              "// you may not use this file except in compliance with the License.\n",
              "// You may obtain a copy of the License at\n",
              "//\n",
              "//      http://www.apache.org/licenses/LICENSE-2.0\n",
              "//\n",
              "// Unless required by applicable law or agreed to in writing, software\n",
              "// distributed under the License is distributed on an \"AS IS\" BASIS,\n",
              "// WITHOUT WARRANTIES OR CONDITIONS OF ANY KIND, either express or implied.\n",
              "// See the License for the specific language governing permissions and\n",
              "// limitations under the License.\n",
              "\n",
              "/**\n",
              " * @fileoverview Helpers for google.colab Python module.\n",
              " */\n",
              "(function(scope) {\n",
              "function span(text, styleAttributes = {}) {\n",
              "  const element = document.createElement('span');\n",
              "  element.textContent = text;\n",
              "  for (const key of Object.keys(styleAttributes)) {\n",
              "    element.style[key] = styleAttributes[key];\n",
              "  }\n",
              "  return element;\n",
              "}\n",
              "\n",
              "// Max number of bytes which will be uploaded at a time.\n",
              "const MAX_PAYLOAD_SIZE = 100 * 1024;\n",
              "\n",
              "function _uploadFiles(inputId, outputId) {\n",
              "  const steps = uploadFilesStep(inputId, outputId);\n",
              "  const outputElement = document.getElementById(outputId);\n",
              "  // Cache steps on the outputElement to make it available for the next call\n",
              "  // to uploadFilesContinue from Python.\n",
              "  outputElement.steps = steps;\n",
              "\n",
              "  return _uploadFilesContinue(outputId);\n",
              "}\n",
              "\n",
              "// This is roughly an async generator (not supported in the browser yet),\n",
              "// where there are multiple asynchronous steps and the Python side is going\n",
              "// to poll for completion of each step.\n",
              "// This uses a Promise to block the python side on completion of each step,\n",
              "// then passes the result of the previous step as the input to the next step.\n",
              "function _uploadFilesContinue(outputId) {\n",
              "  const outputElement = document.getElementById(outputId);\n",
              "  const steps = outputElement.steps;\n",
              "\n",
              "  const next = steps.next(outputElement.lastPromiseValue);\n",
              "  return Promise.resolve(next.value.promise).then((value) => {\n",
              "    // Cache the last promise value to make it available to the next\n",
              "    // step of the generator.\n",
              "    outputElement.lastPromiseValue = value;\n",
              "    return next.value.response;\n",
              "  });\n",
              "}\n",
              "\n",
              "/**\n",
              " * Generator function which is called between each async step of the upload\n",
              " * process.\n",
              " * @param {string} inputId Element ID of the input file picker element.\n",
              " * @param {string} outputId Element ID of the output display.\n",
              " * @return {!Iterable<!Object>} Iterable of next steps.\n",
              " */\n",
              "function* uploadFilesStep(inputId, outputId) {\n",
              "  const inputElement = document.getElementById(inputId);\n",
              "  inputElement.disabled = false;\n",
              "\n",
              "  const outputElement = document.getElementById(outputId);\n",
              "  outputElement.innerHTML = '';\n",
              "\n",
              "  const pickedPromise = new Promise((resolve) => {\n",
              "    inputElement.addEventListener('change', (e) => {\n",
              "      resolve(e.target.files);\n",
              "    });\n",
              "  });\n",
              "\n",
              "  const cancel = document.createElement('button');\n",
              "  inputElement.parentElement.appendChild(cancel);\n",
              "  cancel.textContent = 'Cancel upload';\n",
              "  const cancelPromise = new Promise((resolve) => {\n",
              "    cancel.onclick = () => {\n",
              "      resolve(null);\n",
              "    };\n",
              "  });\n",
              "\n",
              "  // Wait for the user to pick the files.\n",
              "  const files = yield {\n",
              "    promise: Promise.race([pickedPromise, cancelPromise]),\n",
              "    response: {\n",
              "      action: 'starting',\n",
              "    }\n",
              "  };\n",
              "\n",
              "  cancel.remove();\n",
              "\n",
              "  // Disable the input element since further picks are not allowed.\n",
              "  inputElement.disabled = true;\n",
              "\n",
              "  if (!files) {\n",
              "    return {\n",
              "      response: {\n",
              "        action: 'complete',\n",
              "      }\n",
              "    };\n",
              "  }\n",
              "\n",
              "  for (const file of files) {\n",
              "    const li = document.createElement('li');\n",
              "    li.append(span(file.name, {fontWeight: 'bold'}));\n",
              "    li.append(span(\n",
              "        `(${file.type || 'n/a'}) - ${file.size} bytes, ` +\n",
              "        `last modified: ${\n",
              "            file.lastModifiedDate ? file.lastModifiedDate.toLocaleDateString() :\n",
              "                                    'n/a'} - `));\n",
              "    const percent = span('0% done');\n",
              "    li.appendChild(percent);\n",
              "\n",
              "    outputElement.appendChild(li);\n",
              "\n",
              "    const fileDataPromise = new Promise((resolve) => {\n",
              "      const reader = new FileReader();\n",
              "      reader.onload = (e) => {\n",
              "        resolve(e.target.result);\n",
              "      };\n",
              "      reader.readAsArrayBuffer(file);\n",
              "    });\n",
              "    // Wait for the data to be ready.\n",
              "    let fileData = yield {\n",
              "      promise: fileDataPromise,\n",
              "      response: {\n",
              "        action: 'continue',\n",
              "      }\n",
              "    };\n",
              "\n",
              "    // Use a chunked sending to avoid message size limits. See b/62115660.\n",
              "    let position = 0;\n",
              "    do {\n",
              "      const length = Math.min(fileData.byteLength - position, MAX_PAYLOAD_SIZE);\n",
              "      const chunk = new Uint8Array(fileData, position, length);\n",
              "      position += length;\n",
              "\n",
              "      const base64 = btoa(String.fromCharCode.apply(null, chunk));\n",
              "      yield {\n",
              "        response: {\n",
              "          action: 'append',\n",
              "          file: file.name,\n",
              "          data: base64,\n",
              "        },\n",
              "      };\n",
              "\n",
              "      let percentDone = fileData.byteLength === 0 ?\n",
              "          100 :\n",
              "          Math.round((position / fileData.byteLength) * 100);\n",
              "      percent.textContent = `${percentDone}% done`;\n",
              "\n",
              "    } while (position < fileData.byteLength);\n",
              "  }\n",
              "\n",
              "  // All done.\n",
              "  yield {\n",
              "    response: {\n",
              "      action: 'complete',\n",
              "    }\n",
              "  };\n",
              "}\n",
              "\n",
              "scope.google = scope.google || {};\n",
              "scope.google.colab = scope.google.colab || {};\n",
              "scope.google.colab._files = {\n",
              "  _uploadFiles,\n",
              "  _uploadFilesContinue,\n",
              "};\n",
              "})(self);\n",
              "</script> "
            ]
          },
          "metadata": {}
        }
      ],
      "source": [
        "from google.colab import files \n",
        "import io\n",
        "uploaded = files.upload()"
      ]
    },
    {
      "cell_type": "markdown",
      "source": [
        "3. Mount a google drive unit and access the files directly (authorization required to access the drive): "
      ],
      "metadata": {
        "id": "nd610MAr9cpj"
      }
    },
    {
      "cell_type": "code",
      "source": [
        "from google.colab import drive \n",
        "drive.mount('/content/drive')"
      ],
      "metadata": {
        "id": "Hb_hm3b690wB"
      },
      "execution_count": null,
      "outputs": []
    },
    {
      "cell_type": "markdown",
      "metadata": {
        "id": "vuxVnKu3LmIA"
      },
      "source": [
        "Once we have the image available we can read it using skimage libraries https://scikit-image.org/\n",
        "\n",
        "There are many other Python libraries that you can use, for instance:\n",
        "- PILLOW: https://pypi.org/project/Pillow/\n",
        "- OPENCV: https://pypi.org/project/opencv-python/"
      ]
    },
    {
      "cell_type": "code",
      "execution_count": null,
      "metadata": {
        "id": "3krt3ympLEhQ"
      },
      "outputs": [],
      "source": [
        "import skimage as sk # load skimage libraries\n",
        "from skimage import io\n",
        "I = sk.io.imread('mammograph.tif') # read image using imread function"
      ]
    },
    {
      "cell_type": "markdown",
      "metadata": {
        "id": "BDY117NnLxW7"
      },
      "source": [
        "We can now check the size of the image in pixels"
      ]
    },
    {
      "cell_type": "code",
      "execution_count": null,
      "metadata": {
        "id": "d8L_Vcs8LUKc"
      },
      "outputs": [],
      "source": [
        "I.shape"
      ]
    },
    {
      "cell_type": "markdown",
      "metadata": {
        "id": "CGBPAFlZPvQk"
      },
      "source": [
        "The image is stored as a numerical matrix. Each component of the matrix is encoded with a different digital type format. For instance,  the digital type uint8 encodes the information with unsigned integer using 8 bits and allows a range of grayscale levels from 0 to $2^8 -1 = 255$. "
      ]
    },
    {
      "cell_type": "code",
      "execution_count": null,
      "metadata": {
        "id": "eTtzm4K6P3Rr"
      },
      "outputs": [],
      "source": [
        "I.dtype"
      ]
    },
    {
      "cell_type": "markdown",
      "source": [
        "Python allows advanced printing of the information using the print command"
      ],
      "metadata": {
        "id": "gTl_m10PB1_w"
      }
    },
    {
      "cell_type": "code",
      "source": [
        "print('The size of the image is {} x {} pixels and the format is {}'.format(I.shape[0],I.shape[1],I.dtype))"
      ],
      "metadata": {
        "id": "w3QCVCjNB6lu"
      },
      "execution_count": null,
      "outputs": []
    },
    {
      "cell_type": "markdown",
      "source": [
        "### Visualize an image"
      ],
      "metadata": {
        "id": "XBrYaozjEz9k"
      }
    },
    {
      "cell_type": "markdown",
      "metadata": {
        "id": "hnQCr7mFNJm0"
      },
      "source": [
        "We can now visualize the image. In order to create a plot we use the graphical library matplotlib https://matplotlib.org/"
      ]
    },
    {
      "cell_type": "code",
      "execution_count": null,
      "metadata": {
        "id": "lwiOjfxiNLqK"
      },
      "outputs": [],
      "source": [
        "import matplotlib.pyplot as plt\n",
        "fig = plt.figure(figsize=(10,6))\n",
        "plt.imshow(I) \n",
        "plt.show()"
      ]
    },
    {
      "cell_type": "markdown",
      "source": [
        "By default, the imshow function will use a default colormap to represent grayscale images with a color palette. We can always specify which colormap to use when visualizing the \n",
        "\n",
        "https://matplotlib.org/stable/tutorials/colors/colormaps.html\n",
        "\n"
      ],
      "metadata": {
        "id": "FRW5AA-VCQZq"
      }
    },
    {
      "cell_type": "code",
      "source": [
        "import matplotlib.pyplot as plt\n",
        "fig = plt.figure(figsize=(10,6))\n",
        "plt.imshow(I,cmap='jet') \n",
        "plt.show()"
      ],
      "metadata": {
        "id": "JDcXqF-qClYz"
      },
      "execution_count": null,
      "outputs": []
    },
    {
      "cell_type": "markdown",
      "source": [
        "You can always add a colorbar as a reference\n"
      ],
      "metadata": {
        "id": "MpMI6ve4DNjF"
      }
    },
    {
      "cell_type": "code",
      "source": [
        "import matplotlib.pyplot as plt\n",
        "fig = plt.figure(figsize=(10,6))\n",
        "plt.imshow(I,cmap='jet') # specify colormap \n",
        "plt.colorbar() # add colorbar\n",
        "plt.show()"
      ],
      "metadata": {
        "id": "jY_gIP0zDSI0"
      },
      "execution_count": null,
      "outputs": []
    },
    {
      "cell_type": "markdown",
      "source": [
        "Using the grayscale colormap"
      ],
      "metadata": {
        "id": "fxcJ1qm6DHzb"
      }
    },
    {
      "cell_type": "code",
      "source": [
        "import matplotlib.pyplot as plt\n",
        "fig = plt.figure(figsize=(10,6))\n",
        "plt.imshow(I,cmap='gray') \n",
        "plt.colorbar() \n",
        "plt.show()"
      ],
      "metadata": {
        "id": "iJw1k_6lDKd8"
      },
      "execution_count": null,
      "outputs": []
    },
    {
      "cell_type": "markdown",
      "metadata": {
        "id": "qUa2Fd19L3nl"
      },
      "source": [
        "Once we have mounted a google drive, we can also read and visualize an image stored in our google drive"
      ]
    },
    {
      "cell_type": "code",
      "execution_count": null,
      "metadata": {
        "id": "huNDcheLMn2Z"
      },
      "outputs": [],
      "source": [
        "file_path = '/content/drive/MyDrive/PIB_EEBE/dog_image.jpg'\n",
        "I1 = sk.io.imread(file_path) # read image using imread function\n",
        "I1.shape"
      ]
    },
    {
      "cell_type": "code",
      "execution_count": null,
      "metadata": {
        "id": "xkUyGQRlNlvO"
      },
      "outputs": [],
      "source": [
        "fig = plt.figure(figsize=(10,6))\n",
        "sk.io.imshow(I1) # visualize image using imshow function\n",
        "sk.io.show()"
      ]
    },
    {
      "cell_type": "markdown",
      "metadata": {
        "id": "4WuRfNKgN6Zr"
      },
      "source": [
        "### Plots with multiple figures"
      ]
    },
    {
      "cell_type": "code",
      "execution_count": null,
      "metadata": {
        "id": "SIT-H3l2N9sp"
      },
      "outputs": [],
      "source": [
        "import matplotlib.pyplot as plt\n",
        "import numpy as np\n",
        "\n",
        "fig = plt.figure(figsize=(14, 6))\n",
        "plt.subplot(121) \n",
        "plt.imshow(I) # visualize image using imshow function\n",
        "plt.title('First imatge') \n",
        "\n",
        "plt.subplot(122)\n",
        "plt.imshow(I1) # visualize image using imshow function\n",
        "plt.title('Second imatge') \n",
        "plt.show()\n",
        "\n"
      ]
    },
    {
      "cell_type": "markdown",
      "metadata": {
        "id": "uTNaYMq8PMK_"
      },
      "source": [
        "We can save the figure using the savefig function from matplotlib"
      ]
    },
    {
      "cell_type": "code",
      "execution_count": null,
      "metadata": {
        "id": "S1t0Lx98PPDr"
      },
      "outputs": [],
      "source": [
        "plt.savefig('two_imatges.png')"
      ]
    },
    {
      "cell_type": "markdown",
      "metadata": {
        "id": "O56GzWTjUvJ7"
      },
      "source": [
        "### Referencing pixels from the image matrix"
      ]
    },
    {
      "cell_type": "code",
      "execution_count": null,
      "metadata": {
        "id": "lTJPx8g6NohD"
      },
      "outputs": [],
      "source": [
        "I[0,0] # Pixel value of first row, first column"
      ]
    },
    {
      "cell_type": "code",
      "execution_count": null,
      "metadata": {
        "id": "q2xA0B-fU2Fv"
      },
      "outputs": [],
      "source": [
        "I[0,983] # Pixel value of first row, last column"
      ]
    },
    {
      "cell_type": "markdown",
      "metadata": {
        "id": "pzBrExRTU-UC"
      },
      "source": [
        "We can generate a plot representing the pixels along a certain row of the image"
      ]
    },
    {
      "cell_type": "code",
      "execution_count": null,
      "metadata": {
        "id": "v6M_qQSuU4IK"
      },
      "outputs": [],
      "source": [
        "Irow = I[850,:] # pixels along the row 850 \n",
        "\n",
        "import matplotlib.pyplot as plt\n",
        "fig = plt.figure(figsize=(5,5))\n",
        "plt.plot(Irow)\n",
        "plt.show()"
      ]
    },
    {
      "cell_type": "markdown",
      "metadata": {
        "id": "y5EQo8qgVIW8"
      },
      "source": [
        "### Working with RGB color images"
      ]
    },
    {
      "cell_type": "code",
      "execution_count": null,
      "metadata": {
        "id": "0eQKEhlQVLtu"
      },
      "outputs": [],
      "source": [
        "import skimage as sk # load skimage libraries\n",
        "IC = sk.data.astronaut() # load a color image from the skimage built-in dataset\n",
        "# change colormap to visualize image\n",
        "sk.io.imshow(IC) # visualize image using imshow function\n",
        "sk.io.show() \n",
        "print('M = {} columns, N = {} rows, NC = {} color channels'.format(*IC.shape)) # Print out image size"
      ]
    },
    {
      "cell_type": "markdown",
      "metadata": {
        "id": "T7dUc5wVVO5N"
      },
      "source": [
        "Convertim la imatge RGB a una imatge en escala de grisos fent servir la fòrmula \\\n",
        "$IG = \\frac{0.2125 \\cdot R + 0.7154\\cdot G + 0.0721\\cdot B}{255}$\n"
      ]
    },
    {
      "cell_type": "code",
      "execution_count": null,
      "metadata": {
        "id": "8QSM707LVhdE"
      },
      "outputs": [],
      "source": [
        "IG = sk.color.rgb2gray(IC)\n",
        "IG.shape"
      ]
    },
    {
      "cell_type": "code",
      "execution_count": null,
      "metadata": {
        "id": "Ir7HX4N0VoZl"
      },
      "outputs": [],
      "source": [
        "fig = plt.figure(figsize=(10,6))\n",
        "sk.io.imshow(IG) # visualize image using imshow function\n",
        "sk.io.show()"
      ]
    },
    {
      "cell_type": "markdown",
      "metadata": {
        "id": "z2nRF4lFVtm7"
      },
      "source": [
        "Check that the grayscale conversion formula is correct"
      ]
    },
    {
      "cell_type": "code",
      "execution_count": null,
      "metadata": {
        "id": "5MMYphcgV0ZB"
      },
      "outputs": [],
      "source": [
        "IG[0,0]"
      ]
    },
    {
      "cell_type": "code",
      "execution_count": null,
      "metadata": {
        "id": "U8m_cwzCV2Tf"
      },
      "outputs": [],
      "source": [
        "(0.2125*IC[0,0,0] + 0.7154*IC[0,0,1] + 0.0721*IC[0,0,2])/255"
      ]
    },
    {
      "cell_type": "markdown",
      "metadata": {
        "id": "ln5ilNM7VXML"
      },
      "source": [
        "### Using colormaps"
      ]
    },
    {
      "cell_type": "code",
      "execution_count": null,
      "metadata": {
        "id": "ZY9U6inZVDOk"
      },
      "outputs": [],
      "source": [
        "import matplotlib.pyplot as plt \n",
        "fig,axes = plt.subplots(1,2,figsize=(12,7))\n",
        "ax = axes.ravel() # convert axes to a 1d array\n",
        "im1 = ax[0].imshow(IG,cmap=plt.cm.gray) # visualize image using imshow function using a grayscale colormap\n",
        "ax[0].set_title('grayscale image with grayscale colormap') # set figure title\n",
        "fig.colorbar(im1,ax=ax[0],orientation='horizontal') # visualize colorbar \n",
        "im2 = ax[1].imshow(IG,cmap=plt.cm.jet) # visualize image using imshow function using a grayscale colormap\n",
        "ax[1].set_title('grayscale image with jet colormap') # set figure title\n",
        "fig.colorbar(im2,ax=ax[1],orientation='horizontal') # visualize colorbar \n",
        "sk.io.show() "
      ]
    },
    {
      "cell_type": "markdown",
      "metadata": {
        "id": "-zpl3HZYXWN2"
      },
      "source": [
        "### Image histogram\n",
        "\n",
        "The histogram of a grayscale image represents the distribution of pixel intensity values and thus the probability of a certain intensity value (number of pixels with that value / number of total pixels)"
      ]
    },
    {
      "cell_type": "code",
      "execution_count": null,
      "metadata": {
        "id": "BBN0wtsGW2ks"
      },
      "outputs": [],
      "source": [
        "# reshape the uint8 image as 1d array:\n",
        "v = IG.reshape(IG.shape[0]*IG.shape[1],1)\n",
        "\n",
        "fig = plt.figure(figsize=(14, 6))\n",
        "plt.hist(v, bins=256,density=False)\n",
        "plt.show()"
      ]
    },
    {
      "cell_type": "markdown",
      "metadata": {
        "id": "-JZZ7BRXXyv-"
      },
      "source": [
        "In case there are too many pixels with the zero value we can plot the histogram without taking this level into account:"
      ]
    },
    {
      "cell_type": "code",
      "execution_count": null,
      "metadata": {
        "id": "vSRqkVf2XqAq"
      },
      "outputs": [],
      "source": [
        "v = v[v>0] # keep only pixels with a value higher than zero: \n",
        "fig = plt.figure(figsize=(14, 6))\n",
        "plt.hist(v, bins=256,density=False)\n",
        "plt.show()"
      ]
    },
    {
      "cell_type": "markdown",
      "source": [
        "### Reading DICOM files\n",
        "\n",
        "In order to read dicom files we should install the library pydicom which is not included in the google colab platform"
      ],
      "metadata": {
        "id": "EIDQFVFLGk6Z"
      }
    },
    {
      "cell_type": "code",
      "source": [
        "pip install pydicom"
      ],
      "metadata": {
        "id": "S1EwroHhGoCe"
      },
      "execution_count": null,
      "outputs": []
    },
    {
      "cell_type": "markdown",
      "source": [
        "We can now read and visualize a dicom using the function dicomread. In this case we read a dicom file from the built-in pydicom test datasets"
      ],
      "metadata": {
        "id": "gU2nRNIyGu2o"
      }
    },
    {
      "cell_type": "code",
      "source": [
        "import matplotlib.pyplot as plt\n",
        "import pydicom\n",
        "from pydicom.data import get_testdata_files\n",
        "\n",
        "filename = get_testdata_files('CT_small.dcm')[0]\n",
        "dataset = pydicom.dcmread(filename)\n",
        "\n",
        "# Normal mode:\n",
        "print()\n",
        "print(\"Filename.........:\", filename)\n",
        "print(\"Storage type.....:\", dataset.SOPClassUID)\n",
        "print()\n",
        "\n",
        "pat_name = dataset.PatientName\n",
        "display_name = pat_name.family_name + \", \" + pat_name.given_name\n",
        "print(\"Patient's name...:\", display_name)\n",
        "print(\"Patient id.......:\", dataset.PatientID)\n",
        "print(\"Modality.........:\", dataset.Modality)\n",
        "print(\"Study Date.......:\", dataset.StudyDate)\n",
        "\n",
        "if 'PixelData' in dataset:\n",
        "    rows = int(dataset.Rows)\n",
        "    cols = int(dataset.Columns)\n",
        "    print(\"Image size.......: {rows:d} x {cols:d}, {size:d} bytes\".format(\n",
        "        rows=rows, cols=cols, size=len(dataset.PixelData)))\n",
        "    if 'PixelSpacing' in dataset:\n",
        "        print(\"Pixel spacing....:\", dataset.PixelSpacing)\n",
        "\n",
        "# use .get() if not sure the item exists, and want a default value if missing\n",
        "print(\"Slice location...:\", dataset.get('SliceLocation', \"(missing)\"))\n",
        "\n",
        "# plot the image using matplotlib\n",
        "plt.imshow(dataset.pixel_array, cmap=plt.cm.bone)\n",
        "plt.show()"
      ],
      "metadata": {
        "id": "7A5qVJQxG34z"
      },
      "execution_count": null,
      "outputs": []
    },
    {
      "cell_type": "markdown",
      "source": [
        "### Read microscopy files using BIOFORMATS\n",
        "\n",
        "Python-bioformats is a Python wrapper for Bio-Formats, a standalone Java library for reading and writing life sciences image file formats. Bio-Formats is capable of parsing both pixels and metadata for a large number of formats, as well as writing to several formats\n",
        "\n",
        "https://pythonhosted.org/python-bioformats/\n",
        "\n",
        "Example images can be obtained at https://scif.io/images/"
      ],
      "metadata": {
        "id": "0nh84mYgHIo1"
      }
    },
    {
      "cell_type": "code",
      "source": [
        "pip install python-bioformats"
      ],
      "metadata": {
        "id": "2sE4c3zKIssV"
      },
      "execution_count": null,
      "outputs": []
    },
    {
      "cell_type": "code",
      "source": [
        "import javabridge\n",
        "import bioformats \n",
        "\n",
        "from bioformats import load_image\n",
        "javabridge.start_vm(class_path=bioformats.JARS)\n",
        "\n",
        "I2 = load_image('/content/mitosis.ics')\n",
        "I3 = load_image('/content/Pathology_image.lif')\n",
        "\n",
        "fig = plt.figure(figsize=(14, 6))\n",
        "plt.subplot(121) \n",
        "plt.imshow(I2[:,:,0]) \n",
        "plt.title('Mitosis') \n",
        "\n",
        "plt.subplot(122)\n",
        "plt.imshow(I3) \n",
        "\n",
        "plt.title('Pathology') \n",
        "plt.show()\n"
      ],
      "metadata": {
        "id": "n9N4Cr0KKZG7"
      },
      "execution_count": null,
      "outputs": []
    },
    {
      "cell_type": "markdown",
      "metadata": {
        "id": "fiE4A2Aw0lUS"
      },
      "source": [
        "## Image filtering methods"
      ]
    },
    {
      "cell_type": "markdown",
      "metadata": {
        "id": "SsFcZSBnh3eC"
      },
      "source": [
        "### Statistical filters"
      ]
    },
    {
      "cell_type": "markdown",
      "metadata": {
        "id": "0x2BIkkuh3eD"
      },
      "source": [
        "Loading built-in images and add some noise "
      ]
    },
    {
      "cell_type": "code",
      "execution_count": null,
      "metadata": {
        "id": "3i_C0BbRh3eD"
      },
      "outputs": [],
      "source": [
        "%matplotlib inline \n",
        "\n",
        "import matplotlib.pyplot as plt\n",
        "import numpy as np \n",
        "from skimage import data\n",
        "from skimage import img_as_ubyte\n",
        "\n",
        "img = data.camera()\n",
        "\n",
        "## Noisy image: Add some noise by randomly setting some pixels to 0 or 255 (salt and pepper noise)\n",
        "noise = np.random.random(img.shape) # uniform random numbers between 0 and 1\n",
        "noisy_image = img_as_ubyte(data.camera())\n",
        "noisy_image[noise > 0.99] = 255 \n",
        "noisy_image[noise < 0.01] = 0\n",
        "\n",
        "\n",
        "def plot_comparison(original, filtered, filter_name):\n",
        "\n",
        "    fig, (ax1, ax2) = plt.subplots(ncols=2, figsize=(14, 6), sharex=True,\n",
        "                                   sharey=True)\n",
        "    ax1.imshow(original, cmap=plt.cm.gray)\n",
        "    ax1.set_title('original')\n",
        "    ax1.axis('off')\n",
        "    ax2.imshow(filtered, cmap=plt.cm.gray)\n",
        "    ax2.set_title(filter_name)\n",
        "    ax2.axis('off')\n",
        "    \n",
        "plot_comparison(img,noisy_image,'Salt & Pepper noise')\n",
        "plt.savefig('Noisy.png')"
      ]
    },
    {
      "cell_type": "code",
      "execution_count": null,
      "metadata": {
        "id": "puOf0NzSGPTs"
      },
      "outputs": [],
      "source": [
        "img.shape[0]*img.shape[1]*0.001"
      ]
    },
    {
      "cell_type": "markdown",
      "metadata": {
        "id": "XyP_FHLgh3eE"
      },
      "source": [
        "### Median filters"
      ]
    },
    {
      "cell_type": "code",
      "execution_count": null,
      "metadata": {
        "id": "zE-5_wIHh3eF"
      },
      "outputs": [],
      "source": [
        "from skimage.morphology import disk\n",
        "from skimage.filters import median\n",
        "\n",
        "img = img_as_ubyte(noisy_image)\n",
        "sel5 = disk(2) # structuring element disk radius 5 pixels\n",
        "img_med5x5 = median(img, sel5)\n",
        "plot_comparison(img,img_med5x5,'Median 5x5')\n",
        "plt.savefig('median.png')\n",
        "\n",
        "sel25 = disk(25)\n",
        "img_med25x25 = median(img, sel25)\n",
        "plot_comparison(img,img_med25x25,'Median 25x25')"
      ]
    },
    {
      "cell_type": "markdown",
      "metadata": {
        "id": "E3TFssdlh3eF"
      },
      "source": [
        "### Local averaging filter"
      ]
    },
    {
      "cell_type": "markdown",
      "metadata": {
        "id": "J6Sam17sh3eF"
      },
      "source": [
        "Add Gaussian noise to the image:"
      ]
    },
    {
      "cell_type": "code",
      "execution_count": null,
      "metadata": {
        "id": "1UDHDyM7h3eF"
      },
      "outputs": [],
      "source": [
        "import matplotlib.pyplot as plt\n",
        "import numpy as np \n",
        "from skimage import data\n",
        "from skimage import img_as_ubyte\n",
        "\n",
        "from skimage import data, img_as_float\n",
        "from skimage.util import random_noise\n",
        "\n",
        "\n",
        "img = img_as_float(data.chelsea())\n",
        "sigma = 0.15\n",
        "noisy_image_normal = random_noise(img, var=sigma**2)\n",
        "\n",
        "plot_comparison(img,noisy_image_normal,'Gaussian noise')"
      ]
    },
    {
      "cell_type": "code",
      "execution_count": null,
      "metadata": {
        "id": "dXqBEvaZh3eG"
      },
      "outputs": [],
      "source": [
        "from skimage.filters import rank\n",
        "from skimage.color import rgb2gray\n",
        "\n",
        "img = img_as_ubyte(rgb2gray(noisy_image_normal))\n",
        "\n",
        "selem = disk(3) # structuring element \n",
        "img_locmed = rank.mean(img, selem=selem)\n",
        "plot_comparison(img,img_locmed,'Local mean with disk 3x3')\n",
        "plt.savefig('Local_mean.png')"
      ]
    },
    {
      "cell_type": "markdown",
      "metadata": {
        "id": "9MfgHUaDh3eH"
      },
      "source": [
        "### Convolutional Filters (spatial filters)"
      ]
    },
    {
      "cell_type": "markdown",
      "metadata": {
        "id": "mPD6GxZ3h3eH"
      },
      "source": [
        "In a 2D convolution, each pixel is transformed using a weighted sum of the neighbours"
      ]
    },
    {
      "cell_type": "code",
      "execution_count": null,
      "metadata": {
        "id": "_CxB8Bjoh3eH"
      },
      "outputs": [],
      "source": [
        "import numpy as np \n",
        "I = np.array([[0, 0, 0, 0, 0, 0, 0],\n",
        "             [0, 0, 0, 0, 0, 0, 0],\n",
        "             [0, 0, 0, 0, 0, 0, 0],\n",
        "             [0, 0, 0, 1, 0, 0, 0],\n",
        "             [0, 0, 0, 0, 0, 0, 0],\n",
        "             [0, 0, 0, 0, 0, 0, 0]])\n",
        "h = np.array([[1,2,3],[4,5,6],[7,8,9]])\n",
        "\n",
        "from scipy import ndimage\n",
        "Iconv = ndimage.convolve(I, h, mode='constant', cval=0.0)\n",
        "Iconv"
      ]
    },
    {
      "cell_type": "markdown",
      "metadata": {
        "id": "-enmJEsah3eH"
      },
      "source": [
        "### Gaussian Filter\n",
        "\n",
        "A kind of convolutional filter in which the filter weights follow a bell-shaped gaussian distribution. The resulting image will be therefore smoothed (Low-pass filter)"
      ]
    },
    {
      "cell_type": "code",
      "execution_count": null,
      "metadata": {
        "id": "XL362Nesh3eH"
      },
      "outputs": [],
      "source": [
        "from skimage import data\n",
        "from skimage.filters import gaussian\n",
        "from skimage.color import rgb2gray\n",
        "\n",
        "img = data.astronaut()\n",
        "img = rgb2gray(img)\n",
        "\n",
        "img_f = gaussian(img, sigma=0.1)\n",
        "plot_comparison(img,img_f, 'Gaussian filter sigma=0.1')\n",
        "plt.savefig('gaussian.png')\n",
        "\n",
        "\n",
        "img_f = gaussian(img, sigma=1)\n",
        "plot_comparison(img,img_f, 'Gaussian filter sigma=1')\n",
        "\n",
        "\n",
        "img_f = gaussian(img, sigma=5)\n",
        "plot_comparison(img,img_f, 'Gaussian filter sigma=5')"
      ]
    },
    {
      "cell_type": "markdown",
      "metadata": {
        "id": "CmK7CvKqh3eI"
      },
      "source": [
        "### Edge detection\n",
        "\n",
        "Sobel and Roberts gradient operators"
      ]
    },
    {
      "cell_type": "code",
      "execution_count": null,
      "metadata": {
        "id": "qqKDuPWZh3eI"
      },
      "outputs": [],
      "source": [
        "import numpy as np\n",
        "import matplotlib.pyplot as plt\n",
        "\n",
        "from skimage.data import camera\n",
        "from skimage.filters import roberts, sobel\n",
        "\n",
        "image = camera()\n",
        "\n",
        "edge_roberts = roberts(image)\n",
        "plot_comparison(image,edge_roberts, 'Roberts edge detector')\n",
        "plt.savefig('roberts_edges.png')\n",
        "\n",
        "edge_sobel = sobel(image)\n",
        "plot_comparison(image,edge_sobel, 'Sobel edge detector')"
      ]
    },
    {
      "cell_type": "markdown",
      "metadata": {
        "id": "ABBsjfLth3eI"
      },
      "source": [
        "### Laplacian filters\n",
        "\n",
        "Enhancing contours"
      ]
    },
    {
      "cell_type": "code",
      "execution_count": null,
      "metadata": {
        "id": "33HnRetbh3eI"
      },
      "outputs": [],
      "source": [
        "from skimage import data\n",
        "from skimage.filters import laplace\n",
        "from skimage.color import rgb2gray\n",
        "\n",
        "img_f = laplace(image, 3)\n",
        "plot_comparison(image,img_f, 'Laplacian filter 3x3')\n",
        "plt.savefig('laplacian.png')\n",
        "\n",
        "img_f = laplace(image, 25)\n",
        "plot_comparison(image,img_f, 'Laplacian filter 25x25')"
      ]
    },
    {
      "cell_type": "markdown",
      "metadata": {
        "id": "fbcjL9h0OtOC"
      },
      "source": [
        "Enhancing edges by adding the result of the Laplacian filter\n"
      ]
    },
    {
      "cell_type": "code",
      "execution_count": null,
      "metadata": {
        "id": "WC66-cjHOzDG"
      },
      "outputs": [],
      "source": [
        "from skimage import data\n",
        "from skimage import img_as_float,img_as_ubyte\n",
        "from skimage.filters import laplace\n",
        "\n",
        "im_enhanced = image+img_f\n",
        "plot_comparison(image,im_enhanced, 'Resatar contorns')"
      ]
    },
    {
      "cell_type": "markdown",
      "metadata": {
        "id": "syCB1OSkh3eI"
      },
      "source": [
        "### Filtering in the frequency domain\n",
        "\n",
        "Using the FFT and the Convolution theorem:\n"
      ]
    },
    {
      "cell_type": "markdown",
      "metadata": {
        "id": "c09m9EX0h3eI"
      },
      "source": [
        "First we obtain the 2D Discrete Fourier Transform of the image (FFT algorithm):\n"
      ]
    },
    {
      "cell_type": "code",
      "execution_count": null,
      "metadata": {
        "id": "DIwAopGkh3eJ"
      },
      "outputs": [],
      "source": [
        "import numpy as np\n",
        "from skimage import data\n",
        "from skimage.color import rgb2gray\n",
        "from matplotlib import pyplot as plt\n",
        "\n",
        "img = data.astronaut()\n",
        "img = rgb2gray(img)\n",
        "\n",
        "\n",
        "f = np.fft.fft2(img) # Discrete Fourier Transform using FFT algorithm\n",
        "fshift = np.fft.fftshift(f) # Shift to have zero frequency (origin) at the center of the image\n",
        "magnitude_spectrum = 20*np.log(np.abs(fshift)) # Logarithmic scale for better visualization of the differences in powert spectrum\n",
        "\n",
        "fig = plt.figure(figsize=(14, 6))\n",
        "plt.subplot(121),plt.imshow(img, cmap = 'gray')\n",
        "plt.title('Input Image'), plt.xticks([]), plt.yticks([])\n",
        "plt.subplot(122),plt.imshow(magnitude_spectrum, cmap = 'gray')\n",
        "plt.title('Magnitude Spectrum'), plt.xticks([]), plt.yticks([])\n",
        "plt.savefig('frequency.png')\n",
        "plt.show()\n"
      ]
    },
    {
      "cell_type": "markdown",
      "metadata": {
        "id": "hVHnqOqEh3eJ"
      },
      "source": [
        "### High-pass filter (frequency domain)\n",
        "\n",
        "\n",
        "Just remove the regions with lower frequencies near the origin of the DFT. Then obtain the filtered image by applying the inverse discrete Fourier transform to the result:"
      ]
    },
    {
      "cell_type": "code",
      "execution_count": null,
      "metadata": {
        "id": "n7RQq61Ah3eJ"
      },
      "outputs": [],
      "source": [
        "rows, cols = img.shape\n",
        "crow,ccol = np.int(rows/2) , np.int(cols/2)\n",
        "fshift[crow-30:crow+30, ccol-30:ccol+30] = 0\n",
        "f_ishift = np.fft.ifftshift(fshift)\n",
        "img_back = np.fft.ifft2(f_ishift)\n",
        "img_back = np.abs(img_back)\n",
        "\n",
        "plot_comparison(img,img_back, 'High-pass filter in the frequency domain')"
      ]
    },
    {
      "cell_type": "markdown",
      "metadata": {
        "id": "1LdCHrtVh3eJ"
      },
      "source": [
        "### Low-pass filter (frequency domain)\n",
        "\n",
        "Just remove the regions with higher frequencies far from the origin of the DFT. Then obtain the filtered image by applying the inverse discrete Fourier transform to the result:"
      ]
    },
    {
      "cell_type": "code",
      "execution_count": null,
      "metadata": {
        "id": "0SU3aDU7h3eJ"
      },
      "outputs": [],
      "source": [
        "nrows, ncols = img.shape\n",
        "row, col = np.ogrid[:nrows, :ncols]\n",
        "cnt_row, cnt_col = nrows / 2, ncols / 2\n",
        "disk_diameter = 50\n",
        "outer_disk_mask = ((row - cnt_row)**2 + (col - cnt_col)**2 > (disk_diameter)**2)\n",
        "\n",
        "f = np.fft.fft2(img)\n",
        "fshift = np.fft.fftshift(f)\n",
        "magnitude_spectrum = 20*np.log(np.abs(fshift))\n",
        "\n",
        "fshift[outer_disk_mask] = 0\n",
        "f_ishift = np.fft.ifftshift(fshift)\n",
        "img_back = np.fft.ifft2(f_ishift)\n",
        "img_back = np.abs(img_back)\n",
        "\n",
        "fig = plt.figure(figsize=(5,5))\n",
        "plt.imshow(outer_disk_mask,cmap=plt.cm.gray)\n",
        "plt.title('LPF mask disk with diameter {} pixels'.format(disk_diameter))\n",
        "plt.show()\n",
        "\n",
        "plot_comparison(img,img_back, 'Low-pass filter diameter {} pixels'.format(disk_diameter))"
      ]
    },
    {
      "cell_type": "markdown",
      "metadata": {
        "id": "c7kUNNvCh3eK"
      },
      "source": [
        "Let's increase the disk diameter and therefore the frequencies that are kept in the filter: Since we remove less high-frequency content of the spactrum, the filtered image retains more detail than in the previous example:"
      ]
    },
    {
      "cell_type": "code",
      "execution_count": null,
      "metadata": {
        "id": "iOdQdKRVh3eK"
      },
      "outputs": [],
      "source": [
        "disk_diameter = 100\n",
        "outer_disk_mask = ((row - cnt_row)**2 + (col - cnt_col)**2 > (disk_diameter)**2)\n",
        "\n",
        "f = np.fft.fft2(img)\n",
        "fshift = np.fft.fftshift(f)\n",
        "magnitude_spectrum = 20*np.log(np.abs(fshift))\n",
        "\n",
        "fshift[outer_disk_mask] = 0\n",
        "f_ishift = np.fft.ifftshift(fshift)\n",
        "img_back = np.fft.ifft2(f_ishift)\n",
        "img_back = np.abs(img_back)\n",
        "\n",
        "fig = plt.figure(figsize=(5,5))\n",
        "plt.imshow(outer_disk_mask,cmap=plt.cm.gray)\n",
        "plt.title('LPF mask disk with diameter {} pixels'.format(disk_diameter))\n",
        "plt.show()\n",
        "plot_comparison(img,img_back, 'Low-pass filter diameter {} pixels'.format(disk_diameter))"
      ]
    },
    {
      "cell_type": "markdown",
      "source": [
        "## Morphological operations"
      ],
      "metadata": {
        "id": "hFtiHE_yXEG3"
      }
    },
    {
      "cell_type": "markdown",
      "source": [
        "### Erosion and dilation"
      ],
      "metadata": {
        "id": "NMqv-m8AX7Od"
      }
    },
    {
      "cell_type": "code",
      "source": [
        "import numpy as np \n",
        "import matplotlib.pyplot as plt\n",
        "\n",
        "\n",
        "nrows, ncols = (200,200)\n",
        "row, col = np.ogrid[:nrows, :ncols]\n",
        "disk_diameter = 50\n",
        "\n",
        "cnt_row1, cnt_col1 = nrows / 2, ncols / 3\n",
        "outer_disk_mask1 = ((row - cnt_row1)**2 + (col - cnt_col1)**2 < (disk_diameter)**2)\n",
        "\n",
        "cnt_row2, cnt_col2 = nrows / 2, 2*ncols / 3\n",
        "outer_disk_mask2 = ((row - cnt_row2)**2 + (col - cnt_col2)**2 < (disk_diameter)**2)\n",
        "\n",
        "# Intersection (logical AND): \n",
        "I_and = outer_disk_mask1 & outer_disk_mask2\n",
        "\n",
        "from skimage.morphology import erosion, dilation\n",
        "from skimage.morphology import disk\n",
        "\n",
        "selem = disk(7)\n",
        "eroded = erosion(I_and, selem)\n",
        "dilated = dilation(I_and, selem)\n",
        "eroded_dilated = dilation(eroded, selem)\n",
        "\n",
        "\n",
        "fig = plt.figure(figsize=(16, 12))\n",
        "plt.subplot(221),plt.imshow(I_and, cmap = 'gray')\n",
        "plt.subplot(222),plt.imshow(eroded, cmap = 'gray')\n",
        "plt.subplot(223),plt.imshow(dilated, cmap = 'gray')\n",
        "plt.subplot(224),plt.imshow(eroded_dilated, cmap = 'gray')\n",
        "\n",
        "\n",
        "plt.show()"
      ],
      "metadata": {
        "id": "XCs1IIi3XMma"
      },
      "execution_count": null,
      "outputs": []
    },
    {
      "cell_type": "markdown",
      "source": [
        "Now with some realistic data"
      ],
      "metadata": {
        "id": "y8CXMcwmXWWE"
      }
    },
    {
      "cell_type": "code",
      "source": [
        "import os\n",
        "import matplotlib.pyplot as plt\n",
        "from skimage.data import data_dir\n",
        "from skimage.util import img_as_ubyte\n",
        "from skimage import io\n",
        "\n",
        "orig_phantom = img_as_ubyte(io.imread(os.path.join(data_dir, \"phantom.png\"),\n",
        "                                      as_gray=True))\n",
        "\n",
        "from skimage.morphology import erosion, dilation\n",
        "from skimage.morphology import disk\n",
        "\n",
        "selem = disk(5)\n",
        "eroded = erosion(orig_phantom, selem)\n",
        "plot_comparison(orig_phantom, eroded, 'erosion')\n",
        "plt.savefig('erosion.png')\n",
        "\n",
        "dilated = dilation(orig_phantom, selem)\n",
        "plot_comparison(orig_phantom, dilated, 'dilation')\n",
        "plt.savefig('dilation.png')"
      ],
      "metadata": {
        "id": "CQk1gRo_XYTV"
      },
      "execution_count": null,
      "outputs": []
    },
    {
      "cell_type": "markdown",
      "metadata": {
        "id": "p9MUheqiCxRK"
      },
      "source": [
        "### Skeletonization\n",
        "\n",
        "Zhang's algorithm,\n",
        "\n",
        "Zhang, T. Y. and Suen, Ching Y. (1984). “A Fast Parallel Algorithms For Thinning Digital Patterns”, Communication of\n",
        "the ACM, Vol 27, No. 3, Maret 1984, pp.236-239\n",
        "\n",
        "https://dl.acm.org/doi/10.1145/357994.358023\n"
      ]
    },
    {
      "cell_type": "code",
      "execution_count": null,
      "metadata": {
        "id": "4RS6po1nh3eK"
      },
      "outputs": [],
      "source": [
        "from skimage.morphology import skeletonize\n",
        "from skimage import data\n",
        "import matplotlib.pyplot as plt\n",
        "from skimage.util import invert\n",
        "\n",
        "# Invert the horse image\n",
        "image = invert(data.horse())\n",
        "\n",
        "# perform skeletonization\n",
        "skeleton = skeletonize(image)\n",
        "\n",
        "# display results\n",
        "fig, axes = plt.subplots(nrows=1, ncols=2, figsize=(8, 4),\n",
        "                         sharex=True, sharey=True)\n",
        "\n",
        "ax = axes.ravel()\n",
        "\n",
        "ax[0].imshow(image, cmap=plt.cm.gray)\n",
        "ax[0].axis('off')\n",
        "ax[0].set_title('original', fontsize=20)\n",
        "\n",
        "ax[1].imshow(skeleton, cmap=plt.cm.gray)\n",
        "ax[1].axis('off')\n",
        "ax[1].set_title('skeleton', fontsize=20)\n",
        "\n",
        "fig.tight_layout()\n",
        "plt.show()"
      ]
    },
    {
      "cell_type": "markdown",
      "source": [
        "## Object segmentation"
      ],
      "metadata": {
        "id": "cqsLI2e5X_U9"
      }
    },
    {
      "cell_type": "markdown",
      "source": [
        "Otsu optinal thresholding "
      ],
      "metadata": {
        "id": "xhcJWYowYmuR"
      }
    },
    {
      "cell_type": "code",
      "source": [
        "import matplotlib.pyplot as plt\n",
        "import skimage as sk \n",
        "from skimage import io\n",
        "\n",
        "from skimage import data\n",
        "from skimage.filters import threshold_otsu\n",
        "from skimage.measure import label\n",
        "from skimage.color import label2rgb\n",
        "\n",
        "I = sk.io.imread('matches.tif') # read image using imread function\n",
        "IG = sk.color.rgb2gray(I) # Convert RGB image to grayscale\n",
        "\n",
        "# Apply Otsu threshold for segmentation :\n",
        "thresh = threshold_otsu(IG)\n",
        "bw = IG > thresh # keep lighter regions with grayscale intensities above threshold\n",
        "\n",
        "# label image regions:\n",
        "label_image, nregions = label(bw,return_num=True)\n",
        "image_label_overlay = label2rgb(label_image, image=IG)\n",
        "\n",
        "# Get some figures:\n",
        "fig, axes = plt.subplots(1,3,figsize=(14, 9))\n",
        "ax = axes.ravel()\n",
        "ax[0].imshow(IG,cmap=plt.cm.gray)\n",
        "ax[0].set_title('Original grayscale image') \n",
        "ax[1].imshow(label_image,cmap=plt.cm.jet)\n",
        "ax[1].set_title('Number of regions: {}'.format(nregions)) # set figure title\n",
        "ax[2].imshow(image_label_overlay,cmap=plt.cm.jet)\n",
        "ax[2].set_title('Segmented regions overlay') \n",
        "\n",
        "ax[0].set_axis_off()\n",
        "ax[1].set_axis_off()\n",
        "ax[2].set_axis_off()\n",
        "plt.tight_layout()\n",
        "plt.show()"
      ],
      "metadata": {
        "id": "-98s9OeEYGLf"
      },
      "execution_count": null,
      "outputs": []
    },
    {
      "cell_type": "markdown",
      "source": [
        "## Regional properties \n"
      ],
      "metadata": {
        "id": "Rpfvvi1iYD19"
      }
    },
    {
      "cell_type": "markdown",
      "metadata": {
        "id": "eelQTcC8lePG"
      },
      "source": [
        "### Obtain regional properties\n",
        "\n",
        "Let's obtain the basic regional properties using the function regionprops: "
      ]
    },
    {
      "cell_type": "code",
      "metadata": {
        "id": "PXc1U4qalePG"
      },
      "source": [
        "from skimage.measure import regionprops\n",
        "import numpy as np \n",
        "\n",
        "props = regionprops(label_image)"
      ],
      "execution_count": null,
      "outputs": []
    },
    {
      "cell_type": "markdown",
      "metadata": {
        "id": "tjiZbC_TlePG"
      },
      "source": [
        "Let's take a look to some of the available properties: For instance, for the region labelled as region 1 we have the following properties: "
      ]
    },
    {
      "cell_type": "code",
      "metadata": {
        "id": "TIBeiMdClePG"
      },
      "source": [
        "fig, ax = plt.subplots(figsize=(5, 5))\n",
        "ax.imshow(label_image==1)\n",
        "ax.set_title('Region labelled as region 1') # set figure title\n",
        "plt.tight_layout()\n",
        "plt.show()\n",
        "\n",
        "print('Area of Region 1: {} pixels'.format(props[0].area))\n",
        "print('Centroiod of Region 1: {} '.format(props[0].centroid))\n",
        "print('Eccentricity of Region 1: {}'.format(props[0].eccentricity))\n",
        "print('Major Axis Length of Region 1: {} pixels'.format(props[0].major_axis_length))\n",
        "print('Minor Axis Length of Region 1: {} pixels'.format(props[0].minor_axis_length))\n",
        "print('Perimeter of Region 1: {} pixels'.format(props[0].perimeter))\n",
        "print('Orientation of Region 1: {} degrees'.format(props[0].orientation))"
      ],
      "execution_count": null,
      "outputs": []
    },
    {
      "cell_type": "markdown",
      "metadata": {
        "id": "eh17woH9lePH"
      },
      "source": [
        "The complete list of basic properties with a detailed description of their meaning can be found in https://scikit-image.org/docs/dev/api/skimage.measure.html#skimage.measure.regionprops"
      ]
    },
    {
      "cell_type": "markdown",
      "metadata": {
        "id": "j60q9NyxlePH"
      },
      "source": [
        "### Inspection of the regions\n",
        "\n",
        "There are clearly too many regions (45), we shoud discard those correspoding to little sporious artefacts in the image. This becomes evident when we print the area itereting over regions. Note that the region number 1 is saved in props[0]. "
      ]
    },
    {
      "cell_type": "code",
      "metadata": {
        "id": "7qu9V7x-lePH"
      },
      "source": [
        "for ireg in range(0,nregions):\n",
        "    print('Area of region {} is = {} pixels'.format(ireg+1, props[ireg].area))"
      ],
      "execution_count": null,
      "outputs": []
    },
    {
      "cell_type": "markdown",
      "metadata": {
        "id": "RBNKeON9lePH"
      },
      "source": [
        "It is obvious that regions with an area of few pixels should be considered as spourious artefacts of the segmentation. A reliable way of inspecting regional features is to represent the histogram of the features: "
      ]
    },
    {
      "cell_type": "code",
      "metadata": {
        "id": "l8-j9ITelePI"
      },
      "source": [
        "import numpy as np \n",
        "\n",
        "area = np.zeros(nregions)\n",
        "for i in range(0,nregions):\n",
        "    area[i] = props[i].area\n",
        "   \n",
        "# Plot histogram of the areas\n",
        "fig = plt.figure(figsize=(14, 10))\n",
        "n, bins, patches = plt.hist(area, density=False, facecolor='g', alpha=0.75)\n",
        "\n",
        "plt.xlabel('Area')\n",
        "plt.ylabel('Number of objects')\n",
        "plt.title('Histogram of objects areas')\n",
        "plt.show()"
      ],
      "execution_count": null,
      "outputs": []
    },
    {
      "cell_type": "markdown",
      "metadata": {
        "id": "bTYxT5L9lePI"
      },
      "source": [
        "Further inspection reveals that there are indeed around 32 objects with small area 13 with large areas. We now identify which small regions correspond to spourious artefacts presenting small areas below 3000 pixels:"
      ]
    },
    {
      "cell_type": "code",
      "metadata": {
        "id": "Ez6dsw6AlePI"
      },
      "source": [
        "ind_large = np.where(area > 3000)\n",
        "ind_lregions = np.array(ind_large)+1 #Note: region 1 is placed in component 0 or the props variable\n",
        "area_large = area[ind_large]\n",
        "print('There are {} large objects'.format(len(area_large)))\n",
        "print('Large objects correspond to regions: {}'.format(ind_lregions))\n",
        "print('The areas of the large objects are: {}'.format(area_large))\n",
        "\n",
        "ind_small = np.where(area < 3000)\n",
        "area_small = area[ind_small]\n",
        "ind_sregions = np.array(ind_small)+1\n",
        "print('There are {} small objects'.format(len(area_small)))\n",
        "print('Small objects correspond to regions: {}'.format(ind_sregions))\n",
        "print('The areas of the small objects are {}'.format(area_small))"
      ],
      "execution_count": null,
      "outputs": []
    },
    {
      "cell_type": "markdown",
      "metadata": {
        "id": "Q3wm4XljlePI"
      },
      "source": [
        "For instance, region labelled as 14 and its corresporing properties looks like this:"
      ]
    },
    {
      "cell_type": "code",
      "metadata": {
        "id": "ZpL9tzB-lePJ"
      },
      "source": [
        "fig, ax = plt.subplots(figsize=(20, 20))\n",
        "ax.imshow(label_image==14)\n",
        "ax.set_title('Region labelled as region 14') # set figure title\n",
        "plt.tight_layout()\n",
        "plt.show()\n",
        "\n",
        "print('Area of Region 14: {} pixels'.format(props[13].area))\n",
        "print('Centroiod of Region 14: {} '.format(props[13].centroid))\n",
        "print('Eccentricity of Region 14: {}'.format(props[13].eccentricity))\n",
        "print('Major Axis Length of Region 14: {} pixels'.format(props[13].major_axis_length))\n",
        "print('Minor Axis Length of Region 14: {} pixels'.format(props[13].minor_axis_length))\n",
        "print('Perimeter of Region 14: {} pixels'.format(props[13].perimeter))\n",
        "print('Orientation of Region 14: {} degrees'.format(props[13].orientation))"
      ],
      "execution_count": null,
      "outputs": []
    },
    {
      "cell_type": "markdown",
      "metadata": {
        "id": "TakftRcVlePJ"
      },
      "source": [
        "### Removal of spourious regions\n",
        "\n",
        "Let's remove small objects from the labelled image so that we can work only with relevant objects in the image:"
      ]
    },
    {
      "cell_type": "code",
      "metadata": {
        "id": "5M2ENBySlePJ"
      },
      "source": [
        "for i in np.squeeze(ind_small): # loop over small (spourious) regions\n",
        "    iregion = i+1\n",
        "    label_image[label_image==iregion]=0 # set spourious region as background by re-labelling as zero\n",
        "    \n",
        "image_label_overlay = label2rgb(label_image, image=IG) # generate again the colormap assignment\n",
        "\n",
        "fig, ax = plt.subplots(figsize=(14, 9))\n",
        "ax.imshow(label_image,cmap=plt.cm.jet)\n",
        "ax.set_axis_off()\n",
        "plt.tight_layout()\n",
        "plt.show()"
      ],
      "execution_count": null,
      "outputs": []
    },
    {
      "cell_type": "markdown",
      "metadata": {
        "id": "-67mXohdlePJ"
      },
      "source": [
        "### Obtain final region properties\n",
        "Represent the **centroid and bounding box** of each object in the image:"
      ]
    },
    {
      "cell_type": "code",
      "metadata": {
        "id": "HPdeNC5ylePK"
      },
      "source": [
        "from skimage.measure import regionprops\n",
        "import math\n",
        "\n",
        "props = regionprops(label_image) # Obain again the properties after removal of spourious regions\n",
        "print('The number of final regions is {}'.format(len(props)))\n",
        "\n",
        "fig, ax = plt.subplots(figsize=(14,10))\n",
        "ax.imshow(IG, cmap=plt.cm.gray)\n",
        "\n",
        "for p in props:\n",
        "    y0, x0 = p.centroid\n",
        "    ax.plot(x0, y0, '.g', markersize=15)\n",
        "\n",
        "    minr, minc, maxr, maxc = p.bbox\n",
        "    bx = (minc, maxc, maxc, minc, minc)\n",
        "    by = (minr, minr, maxr, maxr, minr)\n",
        "    ax.plot(bx, by, '-b', linewidth=2.5)\n",
        "\n",
        "ax.set_axis_off()\n",
        "plt.show()"
      ],
      "execution_count": null,
      "outputs": []
    }
  ]
}